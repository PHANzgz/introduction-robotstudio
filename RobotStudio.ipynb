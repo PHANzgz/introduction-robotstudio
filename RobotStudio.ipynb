{
 "cells": [
  {
   "cell_type": "markdown",
   "metadata": {
    "toc": true
   },
   "source": [
    "<h1>Table of Contents<span class=\"tocSkip\"></span></h1>\n",
    "<div class=\"toc\"><ul class=\"toc-item\"><li><span><a href=\"#Introducción\" data-toc-modified-id=\"Introducción-1\"><span class=\"toc-item-num\">1&nbsp;&nbsp;</span>Introducción</a></span></li><li><span><a href=\"#Configuración\" data-toc-modified-id=\"Configuración-2\"><span class=\"toc-item-num\">2&nbsp;&nbsp;</span>Configuración</a></span></li><li><span><a href=\"#Definición-de-una-herramienta-en-RAPID\" data-toc-modified-id=\"Definición-de-una-herramienta-en-RAPID-3\"><span class=\"toc-item-num\">3&nbsp;&nbsp;</span>Definición de una herramienta en RAPID</a></span></li></ul></div>"
   ]
  },
  {
   "cell_type": "markdown",
   "metadata": {},
   "source": [
    "# Introducción"
   ]
  },
  {
   "cell_type": "code",
   "execution_count": null,
   "metadata": {},
   "outputs": [],
   "source": []
  },
  {
   "cell_type": "code",
   "execution_count": null,
   "metadata": {},
   "outputs": [],
   "source": []
  },
  {
   "cell_type": "code",
   "execution_count": null,
   "metadata": {},
   "outputs": [],
   "source": []
  },
  {
   "cell_type": "markdown",
   "metadata": {},
   "source": [
    "# Configuración"
   ]
  },
  {
   "cell_type": "code",
   "execution_count": 2,
   "metadata": {},
   "outputs": [],
   "source": [
    "import numpy as np\n",
    "import pandas as pd\n",
    "\n",
    "# MATLAB API\n",
    "import matlab.engine"
   ]
  },
  {
   "cell_type": "code",
   "execution_count": 3,
   "metadata": {},
   "outputs": [],
   "source": [
    "import io\n",
    "from IPython.core.magic import register_cell_magic\n",
    "ip = get_ipython()\n",
    "\n",
    "out = io.StringIO()\n",
    "err = io.StringIO()\n",
    "\n",
    "# Setup matlab cell magic #\n",
    "@register_cell_magic\n",
    "def matlab_magic(line,cell):\n",
    "    out.truncate(0)\n",
    "    out.seek(0)\n",
    "    err.truncate(0)\n",
    "    err.truncate(0)\n",
    "    raw = r'{line}.eval(\"\"\"{cell}\"\"\", nargout=0, stdout=out, stderr=err)'\n",
    "    ip.run_cell(raw.format(line=line, cell=cell))\n",
    "    print(out.getvalue())\n",
    "    print(err.getvalue())"
   ]
  },
  {
   "cell_type": "code",
   "execution_count": 4,
   "metadata": {},
   "outputs": [],
   "source": [
    "eng = matlab.engine.start_matlab() # start matlab session\n",
    "eng.eval(\"format compact\", nargout=0) # compact formatting in matlab's stdout"
   ]
  },
  {
   "cell_type": "markdown",
   "metadata": {},
   "source": [
    "# Definición de una herramienta en RAPID"
   ]
  },
  {
   "cell_type": "markdown",
   "metadata": {},
   "source": [
    "Para definir la herramienta, podemos utilzar el tipo de dato `tooldata`. Como el robot sostiene la herramienta `robhold` será `TRUE`. Para la componente `tframe` definiremos la posicion del TCP (en mm), expresada en el sistema de coordenadas de la muñeca `tool0`, así como su orientación. Por último la componente `loaddata`, que caracteriza los parametros dinámicos de la herramienta, viene definida a su vez por cuatro subcomponentes: `mass` para la masa(en kg), `cog` para el centro de gravedad(en mm), `aom` para la orientación de los ejes de inercia e `ix` `iy` `iz` para los valores de dichas inercias(en $kgm^2$).\n",
    "<br><br>\n",
    "Así pues, la estructura desglosada de `tooldata` tiene el siguiente aspecto:"
   ]
  },
  {
   "cell_type": "markdown",
   "metadata": {},
   "source": [
    "```\n",
    "< dataobject of tooldata >\n",
    "    < robhold of bool >\n",
    "        < tframe of pose >\n",
    "        < trans of pos >\n",
    "            < x of num >\n",
    "            < y of num >\n",
    "            < z of num >\n",
    "        < rot of orient >\n",
    "            < q1 of num >\n",
    "            < q2 of num >\n",
    "            < q3 of num >\n",
    "            < q4 of num >\n",
    "    < tload of loaddata >\n",
    "        < mass of num >\n",
    "        < cog of pos >\n",
    "            < x of num >\n",
    "            < y of num >\n",
    "            < z of num >\n",
    "        < aom of orient >\n",
    "            < q1 of num >\n",
    "            < q2 of num >\n",
    "            < q3 of num >\n",
    "            < q4 of num >\n",
    "        < ix of num >\n",
    "        < iy of num >\n",
    "        < iz of num >\n",
    "```"
   ]
  },
  {
   "cell_type": "markdown",
   "metadata": {},
   "source": [
    "Se nos pide lo siguiente:\n",
    "<img style=\"float: right; padding-right: 80px; padding-top: 40px;\" src=\"./images/ejemplo_puntero.png\">\n",
    ">A la vista de la estructura del tipo de dato tooldata, defínase sobre el\n",
    "papel una herramienta de tipo puntero, considerando una punta de **105\n",
    "mm de longitud** y **140 gramos de peso**, con su centro de gravedad\n",
    "situado a **20 mm de la base** y con unas inercias en su cdg equivalentes\n",
    "a las que tendría una **varilla del mismo peso y longitud respecto de su\n",
    "cdg**. En cuanto a la orientación del TCP, se pide definirla a través del\n",
    "correspondiente cuaternio de **2 formas diferentes**:\n",
    "- Invirtiendo la orientación de los ejes X y Z del TCP por defecto, pero manteniendo la orientación del eje Y.\n",
    "- Invirtiendo la orientación del eje Z del TCP por defecto e\n",
    "intercambiando los ejes X e Y.\n",
    "\n",
    "<br>\n",
    "donde se han resaltao algunos parámetros que usaremos para la definición de la herramienta. La varilla, supuesta infinitamente delgada a efectos de cálculos, tiene por lo tanto inercia cero en el eje longitudinal $z$ y, en los ejes transversales $x$ e $y$ viene dada por:\n",
    "<br>\n",
    "$$I_x=I_y=\\frac{m\\ell^{2}}{12}=\\frac{0.140\\times 0.02^{2}}{12}= 4.66 \\times10^{-6} kgm^{2}$$\n",
    "<br>\n",
    "donde $m$ y $\\ell$ son la masa y la longitud del centro de masa a la base, respectivamente.\n",
    "<br><br>\n",
    "RAPID pide al usuario expresar la orientación en forma de quaternios, por lo tanto, distinguiendo entre las dos opciones:<br>\n",
    "\n",
    "> - Invirtiendo la orientación de los ejes X y Z del TCP por defecto, pero manteniendo la orientación del eje Y.\n",
    "\n",
    "Que podemos traducir en una rotación de $\\frac{\\pi}{2}$ sobre el eje $y$. El quaternio viene dado por:\n",
    "$$ \\mathbf{Q}_1 =\\left [ \\textrm{cos}\\frac{\\theta}{2}, \\mathbf{k}\\, \\textrm{sin}\\frac{\\theta}{2} \\right ] = \\left [ \\textrm{cos}\\frac{\\pi}{4}, \\left( 0, 1, 0\\right)\\, \\textrm{sin}\\frac{\\pi}{4} \\right ]= \\left [ 0.707,\\, 0,\\, 0.707,\\, 0\\right ] $$\n",
    "\n",
    "> - Invirtiendo la orientación del eje Z del TCP por defecto e intercambiando los ejes X e Y.\n",
    "\n",
    "Que podriamos expresar como composición de cuaternios. Sin embargo, es cómodo expresar una matriz de rotación y hallar las componentes de $\\mathbf{Q}_2$:\n",
    "$$ \\mathbf{R} = \\left [ \\mathbf{n\\,o\\,a}\\right ] =\n",
    "\\begin{bmatrix}\n",
    "0 &1  &0 \\\\ \n",
    "1 &0  &0 \\\\ \n",
    "0 &0  &-1 \n",
    "\\end{bmatrix} $$\n",
    "y sabiendo que\n",
    "<br>\n",
    "$$ q_{0}=\\frac{1}{2} \\sqrt{n_{x}+o_{y}+a_{z}+1} $$\n",
    "$$ q_{1}=\\textrm{sign}( o_z-a_y )\\frac{1}{2} \\sqrt{n_{x}-o_{y}-a_{z}+1} $$\n",
    "$$ q_{2}=\\textrm{sign}( a_x-n_z )\\frac{1}{2} \\sqrt{-n_{x}+o_{y}-a_{z}+1} $$\n",
    "$$ q_{3}=\\textrm{sign}( n_y-o_x )\\frac{1}{2} \\sqrt{-n_{x}-o_{y}+a_{z}+1} $$\n",
    "<br>\n",
    "donde $\\textrm{sign}$ toma el signo de su argumento. Sustituyendo obtenemos\n",
    "<br>\n",
    "$$\n",
    "q_{0}=\\frac{1}{2} \\sqrt{0+0-1+1}= 0\\\\\n",
    "q_{1}=\\textrm{sign}( 0-0 )\\frac{1}{2} \\sqrt{0-0+1+1}=0.707 \\\\\n",
    "q_{2}=\\textrm{sign}( 0-0 )\\frac{1}{2} \\sqrt{-0+0+1+1}=0.707 \\\\\n",
    "q_{3}=\\textrm{sign}( 1-1 )\\frac{1}{2} \\sqrt{-0-0-1+1}=0 \\\\\n",
    "$$\n",
    "<br>\n",
    "Y por lo tanto,\n",
    "$$ \\mathbf{Q}_2 = \\left [ 0,\\, 0.707,\\, 0.707,\\, 0\\right ] $$\n",
    "<br>\n",
    "Verifiquemos con MATLAB:\n",
    "<br>\n"
   ]
  },
  {
   "cell_type": "code",
   "execution_count": 5,
   "metadata": {},
   "outputs": [
    {
     "name": "stdout",
     "output_type": "stream",
     "text": [
      "Q1 =\n",
      "    0.7071         0         0    0.7071\n",
      "Q2 =\n",
      "         0    0.7071    0.7071         0\n",
      "\n",
      "\n"
     ]
    }
   ],
   "source": [
    "%%matlab_magic eng\n",
    "\n",
    "Q1 = eul2quat([0 0 pi/2], 'XYZ')\n",
    "\n",
    "R = [0 1 0; 1 0 0; 0 0 -1];\n",
    "Q2 = rotm2quat(R)"
   ]
  },
  {
   "cell_type": "markdown",
   "metadata": {},
   "source": [
    "Como queriamos demostrar.\n",
    "<br><br>\n",
    "Con los datos obtenidos podemos definir ambas herramientas en RAPID:\n",
    "<br><br>\n",
    "<p style = \"text-indent : 2em;\">\n",
    "    <code> PERS tooldata puntero1 := [ TRUE, [[0, 0, 105], [0.707, 0, 0, 0.707]], [0.14, [0, 0, 20], [1, 0, 0, 0], 4.66e-6, 4.66e-6, 0]];</code>\n",
    "</p>\n",
    "<p style = \"text-indent : 2em;\">\n",
    "    <code> PERS tooldata puntero2 := [ TRUE, [[0, 0, 105], [0, 0.707, 0.707, 0]], [0.14, [0, 0, 20], [1, 0, 0, 0], 4.66e-6, 4.66e-6, 0]];</code>\n",
    "</p>\n",
    "<br>"
   ]
  },
  {
   "cell_type": "markdown",
   "metadata": {},
   "source": [
    "donde cabe destacar que `aom` usa el quaternio unidad `[1, 0, 0, 0]` porque hemos calculado los momentos de inercia para los ejes originales.\n",
    "<br><br>"
   ]
  },
  {
   "cell_type": "markdown",
   "metadata": {},
   "source": [
    "> En cuanto a la herramienta “Garra con puntero”, establézcanse sobre el papel sendos\n",
    "TCP diferenciados, uno para la funcionalidad de garra (punto medio entre los dedos\n",
    "en su extremo) y otro asociado al puntero. La localización de su CDG (680 gramos)\n",
    "es 5, 0, 25 respecto de tool0 (se considerará como una masa puntual).\n",
    "\n",
    "![garra](./images/garra_medida.png)\n",
    "<br><br>\n",
    "donde buscamos unos TCP con la orientación que se presenta en la figura:\n",
    "![tooltcp](./images/tool_tcps.png)\n",
    "<br><br>\n",
    "El momento de inercia en una masa puntual viene dado por $I = mr^2$. Así pues, si el CDG esta a $(5,\\,0,\\,25)$ respecto de `tool0`, se tiene para cada eje:\n",
    "<br>\n",
    "$$ I_x=0.68\\times0.005^2=1.7\\times10^{-5} \\,kgm^2\n",
    "\\\\ I_y=0.68\\times0^2=0 \\,kgm^2\n",
    "\\\\ I_z=0.68\\times0.025^2=4.25\\times10^{-4}\\,kgm^2 $$\n",
    "<br><br>\n",
    "Los cuaternios que expresan orientación de ambos TCP se puede obtener analíticamente de manera idéntica a como se ha explicado anteriormente; Es por ello que usaremos MATLAB para transformar las matrices de rotación:\n",
    "<br><br>\n",
    "$$ R_{garra} = \\begin{bmatrix} 1&0&0\\\\0&-1&0\\\\0&0&-1\\end{bmatrix} \\qquad\n",
    "R_{puntero} = \\begin{bmatrix} 0&0&-1\\\\0&1&0\\\\1&0&0\\end{bmatrix} $$\n",
    "<br><br>\n",
    "Y, en forma de cuaternios:"
   ]
  },
  {
   "cell_type": "code",
   "execution_count": 6,
   "metadata": {},
   "outputs": [
    {
     "name": "stdout",
     "output_type": "stream",
     "text": [
      "Q3 =\n",
      "     0     1     0     0\n",
      "Q4 =\n",
      "    0.7071         0   -0.7071         0\n",
      "\n",
      "\n"
     ]
    }
   ],
   "source": [
    "%%matlab_magic eng\n",
    "\n",
    "Rgarra = [1 0 0; 0 -1 0; 0 0 -1];\n",
    "Q3 = rotm2quat(Rgarra)\n",
    "\n",
    "Rpuntero = [0 0 -1; 0 1 0; 1 0 0];\n",
    "Q4 = rotm2quat(Rpuntero)"
   ]
  },
  {
   "cell_type": "markdown",
   "metadata": {},
   "source": [
    "Formateando,\n",
    "<br>\n",
    "$$ \\mathbf{Q}_3 = \\left [ 0,\\, 1,\\, 0,\\, 0\\right ] $$\n",
    "$$ \\mathbf{Q}_4 = \\left [ 0.707,\\, 0,\\, -0.707,\\, 0\\right ] $$\n",
    "<br>\n",
    "para la garra y el puntero, respectivamente.\n",
    "<br><br>\n",
    "Con estos resultados y basándonos en la figura que describe las dimensiones de la herramienta podemos definirlas en RAPID de la siguiente forma:\n",
    "<br><br>\n",
    "<p style = \"text-indent : 2em;\">\n",
    "    <code> PERS tooldata garra := [ TRUE, [[0, 0, 76], [0, 1, 0, 0]], [0.68, [5, 0, 25], [1, 0, 0, 0], 1.7e-5, 0, 4.25e-4]];</code>\n",
    "</p>\n",
    "<p style = \"text-indent : 2em;\">\n",
    "    <code> PERS tooldata puntero := [ TRUE, [[80, 0, 23.5], [0.707, 0, -0.707, 0]], [0.68, [5, 0, 25], [1, 0, 0, 0], 1.7e-5, 0, 4.25e-4]];</code>\n",
    "</p>\n",
    "<br><br>"
   ]
  },
  {
   "cell_type": "code",
   "execution_count": 8,
   "metadata": {},
   "outputs": [],
   "source": [
    "#TODO"
   ]
  },
  {
   "cell_type": "code",
   "execution_count": null,
   "metadata": {},
   "outputs": [],
   "source": []
  },
  {
   "cell_type": "code",
   "execution_count": null,
   "metadata": {},
   "outputs": [],
   "source": []
  }
 ],
 "metadata": {
  "kernelspec": {
   "display_name": "Python 3",
   "language": "python",
   "name": "python3"
  },
  "language_info": {
   "codemirror_mode": {
    "name": "ipython",
    "version": 3
   },
   "file_extension": ".py",
   "mimetype": "text/x-python",
   "name": "python",
   "nbconvert_exporter": "python",
   "pygments_lexer": "ipython3",
   "version": "3.7.6"
  },
  "toc": {
   "base_numbering": 1,
   "nav_menu": {},
   "number_sections": true,
   "sideBar": true,
   "skip_h1_title": false,
   "title_cell": "Table of Contents",
   "title_sidebar": "Contents",
   "toc_cell": true,
   "toc_position": {},
   "toc_section_display": true,
   "toc_window_display": false
  },
  "varInspector": {
   "cols": {
    "lenName": 16,
    "lenType": 16,
    "lenVar": 40
   },
   "kernels_config": {
    "python": {
     "delete_cmd_postfix": "",
     "delete_cmd_prefix": "del ",
     "library": "var_list.py",
     "varRefreshCmd": "print(var_dic_list())"
    },
    "r": {
     "delete_cmd_postfix": ") ",
     "delete_cmd_prefix": "rm(",
     "library": "var_list.r",
     "varRefreshCmd": "cat(var_dic_list()) "
    }
   },
   "types_to_exclude": [
    "module",
    "function",
    "builtin_function_or_method",
    "instance",
    "_Feature"
   ],
   "window_display": false
  }
 },
 "nbformat": 4,
 "nbformat_minor": 4
}
